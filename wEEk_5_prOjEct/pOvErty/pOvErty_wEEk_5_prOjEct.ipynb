{
 "cells": [
  {
   "cell_type": "code",
   "execution_count": null,
   "id": "8d6c18eb",
   "metadata": {},
   "outputs": [],
   "source": [
    "import pandas as pd\n"
   ]
  },
  {
   "cell_type": "code",
   "execution_count": null,
   "id": "22bcf70e",
   "metadata": {},
   "outputs": [],
   "source": [
    "poverty_deprivation = pd.read_csv(\"poverty_deprivation_UnclEAn.csv\")\n",
    "poverty_deprivation\n"
   ]
  },
  {
   "cell_type": "code",
   "execution_count": null,
   "id": "aaf7f5af",
   "metadata": {},
   "outputs": [],
   "source": [
    "poverty_deprivation = poverty_deprivation.drop([\"DATAFLOW\", \"LAST UPDATE\", \"freq\", \"sex\", \"unit\", \"age\", \"OBS_FLAG\"], axis=1)\n",
    "poverty_deprivation\n"
   ]
  },
  {
   "cell_type": "code",
   "execution_count": null,
   "id": "042c0af7",
   "metadata": {},
   "outputs": [],
   "source": [
    "poverty_deprivation = poverty_deprivation.rename(columns={\"geo\": \"country\", \"TIME_PERIOD\": \"year\", \"OBS_VALUE\": \"deprivation_percentage\"})\n",
    "poverty_deprivation\n"
   ]
  },
  {
   "cell_type": "code",
   "execution_count": null,
   "id": "ea013142",
   "metadata": {},
   "outputs": [],
   "source": [
    "poverty_deprivation.to_csv(\"poverty_deprivation.csv\", index=False)\n"
   ]
  },
  {
   "cell_type": "code",
   "execution_count": null,
   "id": "eb0c4d18",
   "metadata": {},
   "outputs": [],
   "source": [
    "poverty_house_deprivation = pd.read_csv(\"poverty_house_deprivation_UnclEAn.csv\")\n",
    "poverty_house_deprivation\n"
   ]
  },
  {
   "cell_type": "code",
   "execution_count": null,
   "id": "dcc20979",
   "metadata": {},
   "outputs": [],
   "source": [
    "poverty_house_deprivation = poverty_house_deprivation.drop([\"DATAFLOW\", \"LAST UPDATE\", \"freq\", \"age\", \"incgrp\", \"sex\", \"unit\", \"age\", \"OBS_FLAG\"], axis=1)\n",
    "poverty_house_deprivation\n"
   ]
  },
  {
   "cell_type": "code",
   "execution_count": null,
   "id": "5c3f1151",
   "metadata": {},
   "outputs": [],
   "source": [
    "poverty_house_deprivation = poverty_house_deprivation.rename(columns={\"geo\": \"country\", \"TIME_PERIOD\": \"year\", \"OBS_VALUE\": \"house_deprivation_percentage\"})\n",
    "poverty_house_deprivation\n"
   ]
  },
  {
   "cell_type": "code",
   "execution_count": null,
   "id": "bca00980",
   "metadata": {},
   "outputs": [],
   "source": [
    "poverty_house_deprivation.to_csv(\"poverty_house_deprivation.csv\", index=False)\n"
   ]
  },
  {
   "cell_type": "code",
   "execution_count": null,
   "id": "620d9068",
   "metadata": {},
   "outputs": [],
   "source": [
    "poverty_risk_after_social_transfer = pd.read_csv(\"poverty_risk_after_social_transfer_UnclEAn.csv\")\n",
    "poverty_risk_after_social_transfer\n"
   ]
  },
  {
   "cell_type": "code",
   "execution_count": null,
   "id": "c77a8816",
   "metadata": {},
   "outputs": [],
   "source": [
    "poverty_risk_after_social_transfer = poverty_risk_after_social_transfer.drop([\"DATAFLOW\", \"LAST UPDATE\", \"freq\", \"sex\", \"unit\", \"indic_il\", \"age\", \"OBS_FLAG\"], axis=1)\n",
    "poverty_risk_after_social_transfer\n"
   ]
  },
  {
   "cell_type": "code",
   "execution_count": null,
   "id": "8b02cbda",
   "metadata": {},
   "outputs": [],
   "source": [
    "poverty_risk_after_social_transfer = poverty_risk_after_social_transfer.rename(columns={\"geo\": \"country\", \"TIME_PERIOD\": \"year\", \"OBS_VALUE\": \"risk_after_social_transfer_percentage\"})\n",
    "poverty_risk_after_social_transfer\n"
   ]
  },
  {
   "cell_type": "code",
   "execution_count": null,
   "id": "12f58533",
   "metadata": {},
   "outputs": [],
   "source": [
    "poverty_risk_after_social_transfer.to_csv(\"poverty_risk_after_social_transfer.csv\", index=False)\n"
   ]
  },
  {
   "cell_type": "code",
   "execution_count": null,
   "id": "62428a37",
   "metadata": {},
   "outputs": [],
   "source": [
    "poverty_risk = pd.read_csv(\"poverty_risk_UnclEAn.csv\")\n",
    "poverty_risk\n"
   ]
  },
  {
   "cell_type": "code",
   "execution_count": null,
   "id": "3e2b2d77",
   "metadata": {},
   "outputs": [],
   "source": [
    "poverty_risk = poverty_risk.drop([\"DATAFLOW\", \"LAST UPDATE\", \"freq\", \"sex\", \"unit\", \"age\", \"OBS_FLAG\"], axis=1)\n",
    "poverty_risk\n"
   ]
  },
  {
   "cell_type": "code",
   "execution_count": null,
   "id": "b5362dcd",
   "metadata": {},
   "outputs": [],
   "source": [
    "poverty_risk = poverty_risk.rename(columns={\"geo\": \"country\", \"TIME_PERIOD\": \"year\", \"OBS_VALUE\": \"poverty_risk_percentage\"})\n",
    "poverty_risk\n"
   ]
  },
  {
   "cell_type": "code",
   "execution_count": null,
   "id": "fce89239",
   "metadata": {},
   "outputs": [],
   "source": [
    "poverty_risk.to_csv(\"poverty_risk.csv\", index=False)\n"
   ]
  },
  {
   "cell_type": "code",
   "execution_count": null,
   "id": "14a2ebc7",
   "metadata": {},
   "outputs": [],
   "source": []
  }
 ],
 "metadata": {
  "kernelspec": {
   "display_name": "Python 3 (ipykernel)",
   "language": "python",
   "name": "python3"
  },
  "language_info": {
   "codemirror_mode": {
    "name": "ipython",
    "version": 3
   },
   "file_extension": ".py",
   "mimetype": "text/x-python",
   "name": "python",
   "nbconvert_exporter": "python",
   "pygments_lexer": "ipython3",
   "version": "3.11.5"
  }
 },
 "nbformat": 4,
 "nbformat_minor": 5
}
