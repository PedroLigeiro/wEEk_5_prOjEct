{
 "cells": [
  {
   "cell_type": "code",
   "execution_count": null,
   "id": "a9b8d6e9",
   "metadata": {},
   "outputs": [],
   "source": [
    "import pandas as pd\n"
   ]
  },
  {
   "cell_type": "code",
   "execution_count": null,
   "id": "e3f0d843",
   "metadata": {},
   "outputs": [],
   "source": [
    "migration_emigration = pd.read_csv(\"migration_emigration_UnclEAn.csv\")\n",
    "migration_emigration\n"
   ]
  },
  {
   "cell_type": "code",
   "execution_count": null,
   "id": "c7256318",
   "metadata": {},
   "outputs": [],
   "source": [
    "migration_emigration = migration_emigration.drop([\"DATAFLOW\", \"LAST UPDATE\", \"freq\", \"age\", \"agedef\", \"unit\", \"sex\", \"OBS_FLAG\"], axis=1)\n",
    "migration_emigration\n"
   ]
  },
  {
   "cell_type": "code",
   "execution_count": null,
   "id": "6719189e",
   "metadata": {},
   "outputs": [],
   "source": [
    "migration_emigration = migration_emigration.rename(columns={\"geo\": \"country\", \"TIME_PERIOD\": \"year\", \"OBS_VALUE\": \"emigration\"})\n",
    "migration_emigration\n"
   ]
  },
  {
   "cell_type": "code",
   "execution_count": null,
   "id": "b0564815",
   "metadata": {},
   "outputs": [],
   "source": [
    "migration_emigration.to_csv(\"migration_emigration.csv\", index=False)\n"
   ]
  },
  {
   "cell_type": "code",
   "execution_count": null,
   "id": "f4239f6b",
   "metadata": {},
   "outputs": [],
   "source": [
    "migration_immigration = pd.read_csv(\"migration_immigration_UnclEAn.csv\")\n",
    "migration_immigration\n"
   ]
  },
  {
   "cell_type": "code",
   "execution_count": null,
   "id": "6f75c4ea",
   "metadata": {},
   "outputs": [],
   "source": [
    "migration_immigration = migration_immigration.drop([\"DATAFLOW\", \"LAST UPDATE\", \"freq\", \"agedef\", \"age\", \"unit\", \"sex\", \"OBS_FLAG\"], axis=1)\n",
    "migration_immigration\n"
   ]
  },
  {
   "cell_type": "code",
   "execution_count": null,
   "id": "542a3ea3",
   "metadata": {},
   "outputs": [],
   "source": [
    "migration_immigration = migration_immigration.rename(columns={\"geo\": \"country\", \"TIME_PERIOD\": \"year\", \"OBS_VALUE\": \"immigration\"})\n",
    "migration_immigration\n"
   ]
  },
  {
   "cell_type": "code",
   "execution_count": null,
   "id": "accd13c6",
   "metadata": {},
   "outputs": [],
   "source": [
    "migration_immigration.to_csv(\"migration_immigration.csv\", index=False)\n"
   ]
  },
  {
   "cell_type": "code",
   "execution_count": null,
   "id": "25cd2290",
   "metadata": {},
   "outputs": [],
   "source": [
    "migration_net = pd.read_csv(\"migration_net_UnclEAn.csv\")\n",
    "migration_net\n"
   ]
  },
  {
   "cell_type": "code",
   "execution_count": null,
   "id": "1114599a",
   "metadata": {},
   "outputs": [],
   "source": [
    "migration_net = migration_net.drop([\"DATAFLOW\", \"LAST UPDATE\", \"freq\", \"agedef\", \"age\", \"unit\", \"sex\", \"OBS_FLAG\"], axis=1)\n",
    "migration_net\n"
   ]
  },
  {
   "cell_type": "code",
   "execution_count": null,
   "id": "02011028",
   "metadata": {},
   "outputs": [],
   "source": [
    "migration_net = migration_net.rename(columns={\"geo\": \"country\", \"TIME_PERIOD\": \"year\", \"OBS_VALUE\": \"net\"})\n",
    "migration_net\n"
   ]
  },
  {
   "cell_type": "code",
   "execution_count": null,
   "id": "f152f853",
   "metadata": {},
   "outputs": [],
   "source": [
    "migration_net.to_csv(\"migration_net.csv\", index=False)\n"
   ]
  },
  {
   "cell_type": "code",
   "execution_count": null,
   "id": "ebd55c3e",
   "metadata": {},
   "outputs": [],
   "source": []
  }
 ],
 "metadata": {
  "kernelspec": {
   "display_name": "Python 3 (ipykernel)",
   "language": "python",
   "name": "python3"
  },
  "language_info": {
   "codemirror_mode": {
    "name": "ipython",
    "version": 3
   },
   "file_extension": ".py",
   "mimetype": "text/x-python",
   "name": "python",
   "nbconvert_exporter": "python",
   "pygments_lexer": "ipython3",
   "version": "3.11.5"
  }
 },
 "nbformat": 4,
 "nbformat_minor": 5
}
