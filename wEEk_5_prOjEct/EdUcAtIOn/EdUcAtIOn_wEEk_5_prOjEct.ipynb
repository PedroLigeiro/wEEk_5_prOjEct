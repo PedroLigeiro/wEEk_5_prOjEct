{
 "cells": [
  {
   "cell_type": "code",
   "execution_count": null,
   "id": "1ab33f3d",
   "metadata": {},
   "outputs": [],
   "source": [
    "import pandas as pd\n"
   ]
  },
  {
   "cell_type": "code",
   "execution_count": null,
   "id": "f67668c2",
   "metadata": {},
   "outputs": [],
   "source": [
    "education_early_leavers = pd.read_csv(\"education_early_leavers_UnclEAn.csv\")\n",
    "education_early_leavers\n"
   ]
  },
  {
   "cell_type": "code",
   "execution_count": null,
   "id": "1019c4a5",
   "metadata": {},
   "outputs": [],
   "source": [
    "education_early_leavers = education_early_leavers.drop([\"DATAFLOW\", \"LAST UPDATE\", \"freq\", \"unit\", \"wstatus\", \"age\", \"sex\", \"OBS_FLAG\"], axis=1)\n",
    "education_early_leavers\n"
   ]
  },
  {
   "cell_type": "code",
   "execution_count": null,
   "id": "7d909d19",
   "metadata": {},
   "outputs": [],
   "source": [
    "education_early_leavers = education_early_leavers.rename(columns={\"geo\": \"country\", \"TIME_PERIOD\": \"year\", \"OBS_VALUE\": \"early_leavers_percentage\"})\n",
    "education_early_leavers\n"
   ]
  },
  {
   "cell_type": "code",
   "execution_count": null,
   "id": "2f1ceaca",
   "metadata": {},
   "outputs": [],
   "source": [
    "education_early_leavers.to_csv(\"education_early_leavers.csv\", index=False)\n"
   ]
  },
  {
   "cell_type": "code",
   "execution_count": null,
   "id": "cfc9134e",
   "metadata": {},
   "outputs": [],
   "source": [
    "education_tertiary_attainment = pd.read_csv(\"education_tertiary_attainment_UnclEAn.csv\")\n",
    "education_tertiary_attainment\n"
   ]
  },
  {
   "cell_type": "code",
   "execution_count": null,
   "id": "168d4e0c",
   "metadata": {},
   "outputs": [],
   "source": [
    "education_tertiary_attainment = education_tertiary_attainment.drop([\"DATAFLOW\", \"LAST UPDATE\", \"freq\", \"sex\", \"age\", \"unit\", \"isced11\", \"OBS_FLAG\"], axis=1)\n",
    "education_tertiary_attainment\n"
   ]
  },
  {
   "cell_type": "code",
   "execution_count": null,
   "id": "ffddbd00",
   "metadata": {},
   "outputs": [],
   "source": [
    "education_tertiary_attainment = education_tertiary_attainment.rename(columns={\"geo\": \"country\", \"TIME_PERIOD\": \"year\", \"OBS_VALUE\": \"tertiary_attainment_percentage\"})\n",
    "education_tertiary_attainment\n"
   ]
  },
  {
   "cell_type": "code",
   "execution_count": null,
   "id": "9212283f",
   "metadata": {},
   "outputs": [],
   "source": [
    "education_tertiary_attainment.to_csv(\"education_tertiary_attainment.csv\", index=False)\n"
   ]
  },
  {
   "cell_type": "code",
   "execution_count": null,
   "id": "ccb350fc",
   "metadata": {},
   "outputs": [],
   "source": []
  }
 ],
 "metadata": {
  "kernelspec": {
   "display_name": "Python 3 (ipykernel)",
   "language": "python",
   "name": "python3"
  },
  "language_info": {
   "codemirror_mode": {
    "name": "ipython",
    "version": 3
   },
   "file_extension": ".py",
   "mimetype": "text/x-python",
   "name": "python",
   "nbconvert_exporter": "python",
   "pygments_lexer": "ipython3",
   "version": "3.11.5"
  }
 },
 "nbformat": 4,
 "nbformat_minor": 5
}
