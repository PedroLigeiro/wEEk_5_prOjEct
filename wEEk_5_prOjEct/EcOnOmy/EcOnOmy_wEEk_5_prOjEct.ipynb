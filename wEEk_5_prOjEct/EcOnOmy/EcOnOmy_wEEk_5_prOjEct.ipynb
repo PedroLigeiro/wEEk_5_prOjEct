{
 "cells": [
  {
   "cell_type": "code",
   "execution_count": null,
   "id": "bbc8ed05",
   "metadata": {},
   "outputs": [],
   "source": [
    "import pandas as pd\n"
   ]
  },
  {
   "cell_type": "code",
   "execution_count": null,
   "id": "57f77ff6",
   "metadata": {},
   "outputs": [],
   "source": [
    "economy_bottom_income = pd.read_csv(\"economy_bottom_40_income_share_UnclEAn.csv\")\n",
    "economy_bottom_income\n"
   ]
  },
  {
   "cell_type": "code",
   "execution_count": null,
   "id": "90d15d8f",
   "metadata": {},
   "outputs": [],
   "source": [
    "economy_bottom_income = economy_bottom_income.drop([\"DATAFLOW\", \"LAST UPDATE\", \"freq\", \"OBS_FLAG\"], axis=1)\n",
    "economy_bottom_income\n"
   ]
  },
  {
   "cell_type": "code",
   "execution_count": null,
   "id": "dcd208ce",
   "metadata": {},
   "outputs": [],
   "source": [
    "economy_bottom_income = economy_bottom_income.rename(columns={\"geo\": \"country\", \"TIME_PERIOD\": \"year\", \"OBS_VALUE\": \"bottom_40_income_share\"})\n",
    "economy_bottom_income\n"
   ]
  },
  {
   "cell_type": "code",
   "execution_count": null,
   "id": "08baaee4",
   "metadata": {},
   "outputs": [],
   "source": [
    "economy_bottom_income.to_csv(\"economy_bottom_40_income_share.csv\", index=False)\n"
   ]
  },
  {
   "cell_type": "code",
   "execution_count": null,
   "id": "3cb45e66",
   "metadata": {},
   "outputs": [],
   "source": [
    "economy_disposable_income = pd.read_csv(\"economy_disposable_income_UnclEAn.csv\")\n",
    "economy_disposable_income\n"
   ]
  },
  {
   "cell_type": "code",
   "execution_count": null,
   "id": "9939a24d",
   "metadata": {},
   "outputs": [],
   "source": [
    "economy_disposable_income = economy_disposable_income.drop([\"DATAFLOW\", \"LAST UPDATE\", \"freq\", \"unit\", \"OBS_FLAG\"], axis=1)\n",
    "economy_disposable_income\n"
   ]
  },
  {
   "cell_type": "code",
   "execution_count": null,
   "id": "af0e482c",
   "metadata": {},
   "outputs": [],
   "source": [
    "economy_disposable_income = economy_disposable_income.rename(columns={\"geo\": \"country\", \"TIME_PERIOD\": \"year\", \"OBS_VALUE\": \"disposable_income\"})\n",
    "economy_disposable_income\n"
   ]
  },
  {
   "cell_type": "code",
   "execution_count": null,
   "id": "60eb0c56",
   "metadata": {},
   "outputs": [],
   "source": [
    "economy_disposable_income.to_csv(\"economy_disposable_income.csv\", index=False)\n"
   ]
  },
  {
   "cell_type": "code",
   "execution_count": null,
   "id": "81771dc8",
   "metadata": {},
   "outputs": [],
   "source": [
    "economy_ends_meet = pd.read_csv(\"economy_ends_meet_UnclEAn.csv\")\n",
    "economy_ends_meet\n"
   ]
  },
  {
   "cell_type": "code",
   "execution_count": null,
   "id": "127c6fb0",
   "metadata": {},
   "outputs": [],
   "source": [
    "economy_ends_meet = economy_ends_meet.drop([\"DATAFLOW\", \"LAST UPDATE\", \"freq\", \"unit\", \"subjnmon\", \"hhtyp\", \"incgrp\", \"OBS_FLAG\"], axis=1)\n",
    "economy_ends_meet\n"
   ]
  },
  {
   "cell_type": "code",
   "execution_count": null,
   "id": "6c9dbf2d",
   "metadata": {},
   "outputs": [],
   "source": [
    "economy_ends_meet = economy_ends_meet.rename(columns={\"geo\": \"country\", \"TIME_PERIOD\": \"year\", \"OBS_VALUE\": \"inability_make_ends_meet_percentage\"})\n",
    "economy_ends_meet\n"
   ]
  },
  {
   "cell_type": "code",
   "execution_count": null,
   "id": "b4bb86a0",
   "metadata": {},
   "outputs": [],
   "source": [
    "economy_ends_meet.to_csv(\"economy_ends_meet.csv\", index=False)\n"
   ]
  },
  {
   "cell_type": "code",
   "execution_count": null,
   "id": "76efd894",
   "metadata": {},
   "outputs": [],
   "source": [
    "economy_gdp_per_capita = pd.read_csv(\"economy_gdp_per_capita_UnclEAn.csv\")\n",
    "economy_gdp_per_capita\n"
   ]
  },
  {
   "cell_type": "code",
   "execution_count": null,
   "id": "c4b9a728",
   "metadata": {},
   "outputs": [],
   "source": [
    "economy_gdp_per_capita = economy_gdp_per_capita.drop([\"DATAFLOW\", \"LAST UPDATE\", \"freq\", \"unit\", \"na_item\", \"OBS_FLAG\"], axis=1)\n",
    "economy_gdp_per_capita\n"
   ]
  },
  {
   "cell_type": "code",
   "execution_count": null,
   "id": "9abf726d",
   "metadata": {},
   "outputs": [],
   "source": [
    "economy_gdp_per_capita = economy_gdp_per_capita.rename(columns={\"geo\": \"country\", \"TIME_PERIOD\": \"year\", \"OBS_VALUE\": \"gdp_per_capita\"})\n",
    "economy_gdp_per_capita\n"
   ]
  },
  {
   "cell_type": "code",
   "execution_count": null,
   "id": "ec97f5c4",
   "metadata": {},
   "outputs": [],
   "source": [
    "economy_gdp_per_capita.to_csv(\"economy_gdp_per_capita.csv\", index=False)\n"
   ]
  },
  {
   "cell_type": "code",
   "execution_count": null,
   "id": "b84cc1ad",
   "metadata": {},
   "outputs": [],
   "source": [
    "economy_mean_income = pd.read_csv(\"economy_mean_income_UnclEAn.csv\")\n",
    "economy_mean_income\n"
   ]
  },
  {
   "cell_type": "code",
   "execution_count": null,
   "id": "6c507388",
   "metadata": {},
   "outputs": [],
   "source": [
    "economy_mean_income = economy_mean_income.drop([\"DATAFLOW\", \"LAST UPDATE\", \"freq\", \"age\", \"sex\", \"indic_il\", \"unit\", \"OBS_FLAG\"], axis=1)\n",
    "economy_mean_income\n"
   ]
  },
  {
   "cell_type": "code",
   "execution_count": null,
   "id": "490ceee9",
   "metadata": {},
   "outputs": [],
   "source": [
    "economy_mean_income = economy_mean_income.rename(columns={\"geo\": \"country\", \"TIME_PERIOD\": \"year\", \"OBS_VALUE\": \"mean_income\"})\n",
    "economy_mean_income\n"
   ]
  },
  {
   "cell_type": "code",
   "execution_count": null,
   "id": "af159d88",
   "metadata": {},
   "outputs": [],
   "source": [
    "economy_mean_income.to_csv(\"economy_mean_income.csv\", index=False)\n"
   ]
  },
  {
   "cell_type": "code",
   "execution_count": null,
   "id": "ffc851a6",
   "metadata": {},
   "outputs": [],
   "source": [
    "economy_median_income = pd.read_csv(\"economy_median_income_UnclEAn.csv\")\n",
    "economy_median_income\n"
   ]
  },
  {
   "cell_type": "code",
   "execution_count": null,
   "id": "5388b252",
   "metadata": {},
   "outputs": [],
   "source": [
    "economy_median_income = economy_median_income.drop([\"DATAFLOW\", \"LAST UPDATE\", \"freq\", \"age\", \"sex\", \"indic_il\", \"unit\", \"OBS_FLAG\"], axis=1)\n",
    "economy_median_income\n"
   ]
  },
  {
   "cell_type": "code",
   "execution_count": null,
   "id": "54a300c4",
   "metadata": {},
   "outputs": [],
   "source": [
    "economy_median_income = economy_median_income.rename(columns={\"geo\": \"country\", \"TIME_PERIOD\": \"year\", \"OBS_VALUE\": \"median_income\"})\n",
    "economy_median_income\n"
   ]
  },
  {
   "cell_type": "code",
   "execution_count": null,
   "id": "d30eb8c0",
   "metadata": {},
   "outputs": [],
   "source": [
    "economy_median_income.to_csv(\"economy_median_income.csv\", index=False)\n"
   ]
  },
  {
   "cell_type": "code",
   "execution_count": null,
   "id": "911e2e0c",
   "metadata": {},
   "outputs": [],
   "source": [
    "economy_purchasing_power = pd.read_csv(\"economy_purchasing_power_UnclEAn.csv\")\n",
    "economy_purchasing_power\n"
   ]
  },
  {
   "cell_type": "code",
   "execution_count": null,
   "id": "4df97b4c",
   "metadata": {},
   "outputs": [],
   "source": [
    "economy_purchasing_power = economy_purchasing_power.drop([\"DATAFLOW\", \"LAST UPDATE\", \"freq\", \"na_item\", \"ppp_cat\", \"unit\", \"OBS_FLAG\"], axis=1)\n",
    "economy_purchasing_power\n"
   ]
  },
  {
   "cell_type": "code",
   "execution_count": null,
   "id": "d7f553e5",
   "metadata": {},
   "outputs": [],
   "source": [
    "economy_purchasing_power = economy_purchasing_power.rename(columns={\"geo\": \"country\", \"TIME_PERIOD\": \"year\", \"OBS_VALUE\": \"purchasing_power\"})\n",
    "economy_purchasing_power\n"
   ]
  },
  {
   "cell_type": "code",
   "execution_count": null,
   "id": "3344be7c",
   "metadata": {},
   "outputs": [],
   "source": [
    "economy_purchasing_power.to_csv(\"economy_purchasing_power.csv\", index=False)\n"
   ]
  },
  {
   "cell_type": "code",
   "execution_count": null,
   "id": "88821fd9",
   "metadata": {},
   "outputs": [],
   "source": [
    "economy = pd.read_csv(\"EcOnOmy.csv\")\n",
    "economy\n"
   ]
  },
  {
   "cell_type": "code",
   "execution_count": null,
   "id": "5f87fc32",
   "metadata": {},
   "outputs": [],
   "source": []
  }
 ],
 "metadata": {
  "kernelspec": {
   "display_name": "Python 3 (ipykernel)",
   "language": "python",
   "name": "python3"
  },
  "language_info": {
   "codemirror_mode": {
    "name": "ipython",
    "version": 3
   },
   "file_extension": ".py",
   "mimetype": "text/x-python",
   "name": "python",
   "nbconvert_exporter": "python",
   "pygments_lexer": "ipython3",
   "version": "3.11.5"
  }
 },
 "nbformat": 4,
 "nbformat_minor": 5
}
