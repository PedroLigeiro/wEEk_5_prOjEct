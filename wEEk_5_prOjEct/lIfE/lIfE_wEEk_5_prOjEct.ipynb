{
 "cells": [
  {
   "cell_type": "code",
   "execution_count": null,
   "id": "4d945f13",
   "metadata": {},
   "outputs": [],
   "source": [
    "import pandas as pd\n"
   ]
  },
  {
   "cell_type": "code",
   "execution_count": null,
   "id": "9e00c194",
   "metadata": {},
   "outputs": [],
   "source": [
    "life_expectancy = pd.read_csv(\"life_expectancy_UnclEAn.csv\")\n",
    "life_expectancy\n"
   ]
  },
  {
   "cell_type": "code",
   "execution_count": null,
   "id": "219ef32b",
   "metadata": {},
   "outputs": [],
   "source": [
    "life_expectancy = life_expectancy.drop([\"DATAFLOW\", \"LAST UPDATE\", \"freq\", \"unit\", \"sex\", \"age\", \"OBS_FLAG\"], axis=1)\n",
    "life_expectancy\n"
   ]
  },
  {
   "cell_type": "code",
   "execution_count": null,
   "id": "c2244fed",
   "metadata": {},
   "outputs": [],
   "source": [
    "life_expectancy = life_expectancy.rename(columns={\"geo\": \"country\", \"TIME_PERIOD\": \"year\", \"OBS_VALUE\": \"life_expectancy\"})\n",
    "life_expectancy\n"
   ]
  },
  {
   "cell_type": "code",
   "execution_count": null,
   "id": "92bbcc52",
   "metadata": {},
   "outputs": [],
   "source": [
    "life_expectancy.to_csv(\"life_expectancy.csv\", index=False)\n"
   ]
  },
  {
   "cell_type": "code",
   "execution_count": null,
   "id": "165cd458",
   "metadata": {},
   "outputs": [],
   "source": [
    "life_healthy_expectancy_1995_2003 = pd.read_csv(\"life_healthy_expectancy_1995-2003_UnclEAn.csv\")\n",
    "life_healthy_expectancy_1995_2003\n"
   ]
  },
  {
   "cell_type": "code",
   "execution_count": null,
   "id": "61fd5f1a",
   "metadata": {},
   "outputs": [],
   "source": [
    "life_healthy_expectancy_1995_2003 = life_healthy_expectancy_1995_2003.drop([\"DATAFLOW\", \"LAST UPDATE\", \"freq\", \"indic_he\", \"OBS_FLAG\"], axis=1)\n",
    "life_healthy_expectancy_1995_2003\n"
   ]
  },
  {
   "cell_type": "code",
   "execution_count": null,
   "id": "203a90d2",
   "metadata": {},
   "outputs": [],
   "source": [
    "life_healthy_expectancy_1995_2003 = life_healthy_expectancy_1995_2003.rename(columns={\"geo\": \"country\", \"TIME_PERIOD\": \"year\", \"OBS_VALUE\": \"healthy_expectancy_1995_2003\"})\n",
    "life_healthy_expectancy_1995_2003\n"
   ]
  },
  {
   "cell_type": "code",
   "execution_count": null,
   "id": "34a5cd50",
   "metadata": {},
   "outputs": [],
   "source": [
    "life_healthy_expectancy_1995_2003.to_csv(\"life_healthy_expectancy_1995_2003.csv\", index=False)\n"
   ]
  },
  {
   "cell_type": "code",
   "execution_count": null,
   "id": "427c4ea5",
   "metadata": {},
   "outputs": [],
   "source": [
    "life_healthy_expectancy_2004_2021 = pd.read_csv(\"life_healthy_expectancy_2004-2021_UnclEAn.csv\")\n",
    "life_healthy_expectancy_2004_2021\n"
   ]
  },
  {
   "cell_type": "code",
   "execution_count": null,
   "id": "9b3ed8cc",
   "metadata": {},
   "outputs": [],
   "source": [
    "life_healthy_expectancy_2004_2021 = life_healthy_expectancy_2004_2021.drop([\"DATAFLOW\", \"LAST UPDATE\", \"freq\", \"unit\", \"sex\", \"indic_he\", \"OBS_FLAG\"], axis=1)\n",
    "life_healthy_expectancy_2004_2021\n"
   ]
  },
  {
   "cell_type": "code",
   "execution_count": null,
   "id": "32a376e6",
   "metadata": {},
   "outputs": [],
   "source": [
    "life_healthy_expectancy_2004_2021 = life_healthy_expectancy_2004_2021.rename(columns={\"geo\": \"country\", \"TIME_PERIOD\": \"year\", \"OBS_VALUE\": \"healthy_expectancy_2004_2021\"})\n",
    "life_healthy_expectancy_2004_2021\n"
   ]
  },
  {
   "cell_type": "code",
   "execution_count": null,
   "id": "1e59c3b9",
   "metadata": {},
   "outputs": [],
   "source": [
    "life_healthy_expectancy_2004_2021.to_csv(\"life_healthy_expectancy_2004_2021.csv\", index=False)\n"
   ]
  },
  {
   "cell_type": "code",
   "execution_count": null,
   "id": "c72c676d",
   "metadata": {},
   "outputs": [],
   "source": []
  }
 ],
 "metadata": {
  "kernelspec": {
   "display_name": "Python 3 (ipykernel)",
   "language": "python",
   "name": "python3"
  },
  "language_info": {
   "codemirror_mode": {
    "name": "ipython",
    "version": 3
   },
   "file_extension": ".py",
   "mimetype": "text/x-python",
   "name": "python",
   "nbconvert_exporter": "python",
   "pygments_lexer": "ipython3",
   "version": "3.11.5"
  }
 },
 "nbformat": 4,
 "nbformat_minor": 5
}
