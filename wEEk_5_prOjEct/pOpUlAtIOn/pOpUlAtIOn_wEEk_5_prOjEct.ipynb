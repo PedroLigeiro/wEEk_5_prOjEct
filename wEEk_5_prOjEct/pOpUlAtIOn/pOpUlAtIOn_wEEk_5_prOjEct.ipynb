{
 "cells": [
  {
   "cell_type": "code",
   "execution_count": null,
   "id": "10a8d16b",
   "metadata": {},
   "outputs": [],
   "source": [
    "import pandas as pd\n"
   ]
  },
  {
   "cell_type": "code",
   "execution_count": null,
   "id": "c92ad43b",
   "metadata": {},
   "outputs": [],
   "source": [
    "population_1981_1991_2001 = pd.read_csv(\"population_1981_1991_2001_UnclEAn.csv\")\n",
    "population_1981_1991_2001\n"
   ]
  },
  {
   "cell_type": "code",
   "execution_count": null,
   "id": "6655c437",
   "metadata": {},
   "outputs": [],
   "source": [
    "population_1981_1991_2001 = population_1981_1991_2001.drop([\"DATAFLOW\", \"LAST UPDATE\", \"freq\", \"unit\", \"age\", \"sex\", \"OBS_FLAG\"], axis=1)\n",
    "population_1981_1991_2001\n"
   ]
  },
  {
   "cell_type": "code",
   "execution_count": null,
   "id": "cc433de1",
   "metadata": {},
   "outputs": [],
   "source": [
    "population_1981_1991_2001[\"OBS_VALUE\"] = population_1981_1991_2001[\"OBS_VALUE\"].astype(int)\n",
    "population_1981_1991_2001\n"
   ]
  },
  {
   "cell_type": "code",
   "execution_count": null,
   "id": "8208d289",
   "metadata": {},
   "outputs": [],
   "source": [
    "population_1981_1991_2001 = population_1981_1991_2001.rename(columns={\"geo\": \"country\", \"TIME_PERIOD\": \"year\", \"OBS_VALUE\": \"1981_1991_2001\"})\n",
    "population_1981_1991_2001\n"
   ]
  },
  {
   "cell_type": "code",
   "execution_count": null,
   "id": "73d7d4da",
   "metadata": {},
   "outputs": [],
   "source": [
    "population_1981_1991_2001.to_csv(\"population_1981_1991_2001.csv\", index=False)\n"
   ]
  },
  {
   "cell_type": "code",
   "execution_count": null,
   "id": "0c39d5c5",
   "metadata": {},
   "outputs": [],
   "source": [
    "population_2011 = pd.read_csv(\"population_2011_UnclEAn.csv\")\n",
    "population_2011\n"
   ]
  },
  {
   "cell_type": "code",
   "execution_count": null,
   "id": "4eea5c61",
   "metadata": {},
   "outputs": [],
   "source": [
    "population_2011 = population_2011.drop([\"DATAFLOW\", \"LAST UPDATE\", \"freq\", \"age\", \"sex\", \"unit\", \"OBS_FLAG\"], axis=1)\n",
    "population_2011\n"
   ]
  },
  {
   "cell_type": "code",
   "execution_count": null,
   "id": "f268b679",
   "metadata": {},
   "outputs": [],
   "source": [
    "population_2011 = population_2011.rename(columns={\"geo\": \"country\", \"TIME_PERIOD\": \"year\", \"OBS_VALUE\": \"2011\"})\n",
    "population_2011\n"
   ]
  },
  {
   "cell_type": "code",
   "execution_count": null,
   "id": "dc9c86f7",
   "metadata": {},
   "outputs": [],
   "source": [
    "population_2011.to_csv(\"population_2011.csv\", index=False)\n"
   ]
  },
  {
   "cell_type": "code",
   "execution_count": null,
   "id": "46f85fc0",
   "metadata": {},
   "outputs": [],
   "source": [
    "population_2021 = pd.read_csv(\"population_2021_UnclEAn.csv\")\n",
    "population_2021\n"
   ]
  },
  {
   "cell_type": "code",
   "execution_count": null,
   "id": "eca79d7e",
   "metadata": {},
   "outputs": [],
   "source": [
    "population_2021 = population_2021.drop([\"DATAFLOW\", \"LAST UPDATE\", \"freq\", \"age\", \"sex\", \"unit\", \"OBS_FLAG\"], axis=1)\n",
    "population_2021\n"
   ]
  },
  {
   "cell_type": "code",
   "execution_count": null,
   "id": "38157ef3",
   "metadata": {},
   "outputs": [],
   "source": [
    "population_2021 = population_2021.rename(columns={\"geo\": \"country\", \"TIME_PERIOD\": \"year\", \"OBS_VALUE\": \"2021\"})\n",
    "population_2021\n"
   ]
  },
  {
   "cell_type": "code",
   "execution_count": null,
   "id": "64ca6193",
   "metadata": {},
   "outputs": [],
   "source": [
    "population_2021.to_csv(\"population_2021.csv\", index=False)\n"
   ]
  },
  {
   "cell_type": "code",
   "execution_count": null,
   "id": "7c198d04",
   "metadata": {},
   "outputs": [],
   "source": [
    "population_satisfaction_rating = pd.read_csv(\"population_satisfaction_rating_UnclEAn.csv\")\n",
    "population_satisfaction_rating\n"
   ]
  },
  {
   "cell_type": "code",
   "execution_count": null,
   "id": "6cb0a653",
   "metadata": {},
   "outputs": [],
   "source": [
    "population_satisfaction_rating = population_satisfaction_rating.drop([\"DATAFLOW\", \"LAST UPDATE\", \"freq\", \"unit\", \"lev_satis\", \"isced11\", \"indic_wb\", \"sex\", \"age\", \"OBS_FLAG\"], axis=1)\n",
    "population_satisfaction_rating\n"
   ]
  },
  {
   "cell_type": "code",
   "execution_count": null,
   "id": "462c1613",
   "metadata": {},
   "outputs": [],
   "source": [
    "population_satisfaction_rating = population_satisfaction_rating.rename(columns={\"geo\": \"country\", \"TIME_PERIOD\": \"year\", \"OBS_VALUE\": \"satisfaction_rating_percentage\"})\n",
    "population_satisfaction_rating\n"
   ]
  },
  {
   "cell_type": "code",
   "execution_count": null,
   "id": "14e30b3e",
   "metadata": {},
   "outputs": [],
   "source": [
    "population_satisfaction_rating.to_csv(\"population_satisfaction_rating.csv\", index=False)\n"
   ]
  },
  {
   "cell_type": "code",
   "execution_count": null,
   "id": "9f38881c",
   "metadata": {},
   "outputs": [],
   "source": []
  }
 ],
 "metadata": {
  "kernelspec": {
   "display_name": "Python 3 (ipykernel)",
   "language": "python",
   "name": "python3"
  },
  "language_info": {
   "codemirror_mode": {
    "name": "ipython",
    "version": 3
   },
   "file_extension": ".py",
   "mimetype": "text/x-python",
   "name": "python",
   "nbconvert_exporter": "python",
   "pygments_lexer": "ipython3",
   "version": "3.11.5"
  }
 },
 "nbformat": 4,
 "nbformat_minor": 5
}
